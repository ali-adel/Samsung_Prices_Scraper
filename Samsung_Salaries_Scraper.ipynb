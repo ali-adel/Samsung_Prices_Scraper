{
  "nbformat": 4,
  "nbformat_minor": 0,
  "metadata": {
    "colab": {
      "provenance": [],
      "authorship_tag": "ABX9TyPM4eG7shsVXLQ9XXYFG+PE",
      "include_colab_link": true
    },
    "kernelspec": {
      "name": "python3",
      "display_name": "Python 3"
    },
    "language_info": {
      "name": "python"
    }
  },
  "cells": [
    {
      "cell_type": "markdown",
      "metadata": {
        "id": "view-in-github",
        "colab_type": "text"
      },
      "source": [
        "<a href=\"https://colab.research.google.com/github/ali-adel/Samsung_Prices_Scraper/blob/main/Samsung_Salaries_Scraper.ipynb\" target=\"_parent\"><img src=\"https://colab.research.google.com/assets/colab-badge.svg\" alt=\"Open In Colab\"/></a>"
      ]
    },
    {
      "cell_type": "code",
      "execution_count": 192,
      "metadata": {
        "id": "1KZvFVSqmUbK"
      },
      "outputs": [],
      "source": [
        "from bs4 import BeautifulSoup as bs\n",
        "from urllib.request import urlopen\n",
        "import csv\n",
        "import pandas as pd"
      ]
    },
    {
      "cell_type": "markdown",
      "source": [
        "# Start Connection"
      ],
      "metadata": {
        "id": "lEMuDBqrozxp"
      }
    },
    {
      "cell_type": "code",
      "source": [
        "url = 'https://www.noon.com/egypt-en/electronics-and-mobiles/mobiles-and-accessories/mobiles-20905/samsung/'\n",
        "Conn = urlopen(url)"
      ],
      "metadata": {
        "id": "lb7qTQEbodmC"
      },
      "execution_count": 180,
      "outputs": []
    },
    {
      "cell_type": "markdown",
      "source": [
        "# Read page html content"
      ],
      "metadata": {
        "id": "P069oVxRpNsu"
      }
    },
    {
      "cell_type": "code",
      "source": [
        "html = Conn.read()"
      ],
      "metadata": {
        "id": "ppp3Ru3_pC4G"
      },
      "execution_count": 181,
      "outputs": []
    },
    {
      "cell_type": "markdown",
      "source": [
        "# Close Connection"
      ],
      "metadata": {
        "id": "Tg0D4miKqe9C"
      }
    },
    {
      "cell_type": "code",
      "source": [
        "Conn.close()"
      ],
      "metadata": {
        "id": "hUZ_jPAWqCNL"
      },
      "execution_count": 182,
      "outputs": []
    },
    {
      "cell_type": "markdown",
      "source": [
        "# Parse html to be more readable"
      ],
      "metadata": {
        "id": "RgZ2sjYzq0CS"
      }
    },
    {
      "cell_type": "code",
      "source": [
        "soup = bs(html, \"html.parser\")"
      ],
      "metadata": {
        "id": "5bzCF-gvqmsS"
      },
      "execution_count": 183,
      "outputs": []
    },
    {
      "cell_type": "markdown",
      "source": [
        "# Specify needed containers"
      ],
      "metadata": {
        "id": "s4AB1747rXwk"
      }
    },
    {
      "cell_type": "code",
      "source": [
        "containers = soup.find_all(\"div\",{\"class\" : \"sc-ced09a79-22 jVAFzX\"})"
      ],
      "metadata": {
        "id": "6O--iyW2rIiI"
      },
      "execution_count": 184,
      "outputs": []
    },
    {
      "cell_type": "markdown",
      "source": [
        "# this have device model name for each card"
      ],
      "metadata": {
        "id": "SdATH5rwvrlN"
      }
    },
    {
      "cell_type": "code",
      "source": [
        "containers[0].div.text.strip()"
      ],
      "metadata": {
        "colab": {
          "base_uri": "https://localhost:8080/",
          "height": 35
        },
        "id": "bTwbW9q3snW0",
        "outputId": "590180d2-e0a4-448e-f12f-36917742d0a2"
      },
      "execution_count": 185,
      "outputs": [
        {
          "output_type": "execute_result",
          "data": {
            "text/plain": [
              "'Samsung Galaxy A15 Dual SIM Light Blue 6GB RAM 128GB 4G LTE - Middle East Version …'"
            ],
            "application/vnd.google.colaboratory.intrinsic+json": {
              "type": "string"
            }
          },
          "metadata": {},
          "execution_count": 185
        }
      ]
    },
    {
      "cell_type": "markdown",
      "source": [
        "# this have device price and currency"
      ],
      "metadata": {
        "id": "uJkSk16MvylQ"
      }
    },
    {
      "cell_type": "code",
      "source": [
        "curr = containers[0].find_all(\"span\",{\"class\" : \"currency\"})\n",
        "curr = curr[0].get_text()"
      ],
      "metadata": {
        "id": "L9S67frtspL-"
      },
      "execution_count": 186,
      "outputs": []
    },
    {
      "cell_type": "code",
      "source": [
        "prices = containers[0].find_all(\"strong\",{\"class\" : \"amount\"})\n",
        "prices = prices[0].get_text()\n"
      ],
      "metadata": {
        "id": "ELzP7tmn0Gxq"
      },
      "execution_count": 187,
      "outputs": []
    },
    {
      "cell_type": "code",
      "source": [
        "full_price = prices + \" \" + curr\n",
        "full_price"
      ],
      "metadata": {
        "colab": {
          "base_uri": "https://localhost:8080/",
          "height": 35
        },
        "id": "CQrqMWCixIp5",
        "outputId": "8f7679d2-48e6-4b01-ae0c-9ebb2b6e49c7"
      },
      "execution_count": 188,
      "outputs": [
        {
          "output_type": "execute_result",
          "data": {
            "text/plain": [
              "'7,212 EGP '"
            ],
            "application/vnd.google.colaboratory.intrinsic+json": {
              "type": "string"
            }
          },
          "metadata": {},
          "execution_count": 188
        }
      ]
    },
    {
      "cell_type": "markdown",
      "source": [
        "# this will have device offer"
      ],
      "metadata": {
        "id": "ygq1tNpW5JZs"
      }
    },
    {
      "cell_type": "code",
      "source": [
        "offers = containers[0].find_all(\"span\",{\"class\" : \"discount\"})\n",
        "offers = offers[0].get_text()\n",
        "offers"
      ],
      "metadata": {
        "colab": {
          "base_uri": "https://localhost:8080/",
          "height": 35
        },
        "id": "pR3BNOp_4sd0",
        "outputId": "cef58670-da1b-4619-d724-43fbd762fd18"
      },
      "execution_count": 189,
      "outputs": [
        {
          "output_type": "execute_result",
          "data": {
            "text/plain": [
              "'21% Off'"
            ],
            "application/vnd.google.colaboratory.intrinsic+json": {
              "type": "string"
            }
          },
          "metadata": {},
          "execution_count": 189
        }
      ]
    },
    {
      "cell_type": "markdown",
      "source": [
        "# All of the above is for one item so we will get all of the items here and create csv file to store data"
      ],
      "metadata": {
        "id": "Fe5wI-6x5pls"
      }
    },
    {
      "cell_type": "code",
      "source": [
        "with open('prices.csv', 'w', newline='') as prices_csv:\n",
        "    csv_writer = csv.writer(prices_csv)\n",
        "    csv_writer.writerow(['Name', 'Full Price', 'Offer'])  # Writing the header row\n",
        "\n",
        "    for container in containers:\n",
        "        name = container.div.text.strip()\n",
        "\n",
        "        price = container.find_all(\"strong\", {\"class\": \"amount\"})\n",
        "        price = price[0].get_text().strip() if price else 'N/A'\n",
        "\n",
        "        curr = container.find_all(\"span\", {\"class\": \"currency\"})\n",
        "        curr = curr[0].get_text().strip() if curr else 'N/A'\n",
        "\n",
        "        full_price = price + \" \" + curr\n",
        "\n",
        "        offer = container.find_all(\"span\", {\"class\": \"discount\"})\n",
        "        offer = offer[0].get_text().strip() if offer else '0 off'\n",
        "\n",
        "        csv_writer.writerow([name, full_price, offer])"
      ],
      "metadata": {
        "id": "DdxqZSYq5kbz"
      },
      "execution_count": 191,
      "outputs": []
    },
    {
      "cell_type": "markdown",
      "source": [
        "# **We can read our csv file**"
      ],
      "metadata": {
        "id": "zXE-8l0IDiuw"
      }
    },
    {
      "cell_type": "code",
      "source": [
        "samsung_prices = pd.read_csv('prices.csv')"
      ],
      "metadata": {
        "id": "7LmQtMCLDob7"
      },
      "execution_count": 197,
      "outputs": []
    },
    {
      "cell_type": "code",
      "source": [
        "samsung_prices"
      ],
      "metadata": {
        "colab": {
          "base_uri": "https://localhost:8080/",
          "height": 1000
        },
        "id": "ClJqE-jVEDwr",
        "outputId": "d6e657da-21b8-427e-e2bf-751ce8699a5d"
      },
      "execution_count": 209,
      "outputs": [
        {
          "output_type": "execute_result",
          "data": {
            "text/plain": [
              "                                                 Name  Full Price    Offer\n",
              "0   Samsung Galaxy A15 Dual SIM Light Blue 6GB RAM...   7,212 EGP  21% Off\n",
              "1   Samsung Galaxy A15 Dual Sim Blue Black 4GB RAM...   6,299 EGP  27% Off\n",
              "2   Samsung Galaxy A15 Dual Sim Light Blue 4GB RAM...   6,222 EGP  28% Off\n",
              "3   Samsung Galaxy A15 Dual SIM Blue/Black 6GB RAM...   6,750 EGP  26% Off\n",
              "4   Samsung Galaxy A15 Dual Sim Yellow 8GB RAM 256...   8,040 EGP  26% Off\n",
              "5   Samsung Galaxy A15 Dual Sim Blue Black 8GB RAM...   8,099 EGP  37% Off\n",
              "6   Samsung Galaxy A15 Dual Sim Yellow 4GB RAM 128...   6,290 EGP  27% Off\n",
              "7   Samsung Galaxy A15 Dual SIM Yellow 6GB RAM 128...   6,999 EGP  23% Off\n",
              "8   Samsung Galaxy A15 Dual Sim Light Blue 8GB RAM...   8,190 EGP  25% Off\n",
              "9   Samsung Galaxy A25 Dual Sim Light Blue 8GB RAM...  11,424 EGP  18% Off\n",
              "10  Samsung Galaxy A05s Dual SIM Black 6GB RAM 128...   5,945 EGP  15% Off\n",
              "11  Samsung Galaxy A05s Dual SIM Light Violet 6GB ...   6,136 EGP  12% Off\n",
              "12  Samsung Galaxy A35 Dual SIM Awesome Navy 8GB R...  13,333 EGP  11% Off\n",
              "13  Samsung Galaxy S24 Ultra Dual SIM Titanium Gra...  47,950 EGP    0 off\n",
              "14  Samsung Galaxy A34 Dual Sim Awesome Silver 8GB...  11,799 EGP  23% Off\n",
              "15  Samsung Galaxy A25 Dual Sim Blue Black 8GB RAM...  10,975 EGP  21% Off\n",
              "16  Samsung Galaxy A05s Dual SIM Silver 4GB RAM 12...   5,395 EGP  12% Off\n",
              "17  Samsung Galaxy S23 Ultra 5G Dual SIM Phantom B...  40,955 EGP  28% Off\n",
              "18  Samsung Galaxy A05s Dual SIM Light Violet 4GB ...   5,858 EGP   6% Off\n",
              "19  Samsung Galaxy S24 Ultra Dual SIM Titanium Gra...  49,350 EGP    0 off\n",
              "20  Samsung Galaxy A15 Dual SIM Blue/Black 6GB RAM...   7,223 EGP    0 off\n",
              "21  Samsung Galaxy A34 Dual Sim Awesome Graphite 8...  11,799 EGP  23% Off\n",
              "22  Samsung Galaxy A55 Dual SIM Awesome Navy 8GB R...  20,500 EGP  21% Off\n",
              "23  Samsung Galaxy A14 Dual Sim Black 4GB RAM 128G...   6,777 EGP  22% Off\n",
              "24  Samsung Galaxy A05s Dual SIM Silver 4GB RAM 12...   5,390 EGP  13% Off\n",
              "25  Samsung Galaxy A35 Dual SIM Awesome Navy 8GB R...  14,399 EGP  13% Off\n",
              "26  Samsung Galaxy A05s Dual SIM Black 4GB RAM 128...   5,395 EGP  13% Off\n",
              "27  Samsung Galaxy A34 Dual Sim Awesome Graphite 8...  13,333 EGP  18% Off\n",
              "28  Samsung Galaxy A35 Dual SIM Awesome Ice Blue 8...  13,333 EGP  11% Off\n",
              "29  Samsung Galaxy A35 Dual SIM Awesome Lilac 8GB ...  14,399 EGP  13% Off\n",
              "30  Samsung Galaxy S24 Ultra Dual SIM Titanium Bla...  47,750 EGP    0 off\n",
              "31  Samsung Galaxy A34 Dual Sim Awesome Silver 8GB...  13,492 EGP  17% Off\n",
              "32  Samsung Galaxy A05s Dual SIM Silver 6GB RAM 12...   5,945 EGP  15% Off\n",
              "33  Samsung Galaxy A54 Dual Sim Awesome Graphite 8...  15,899 EGP  18% Off\n",
              "34  Samsung Galaxy S24 Ultra Dual SIM Titanium Bla...  46,853 EGP    0 off\n",
              "35  Samsung Galaxy A35 Dual SIM Awesome Ice Blue 8...  14,399 EGP  13% Off\n",
              "36  Samsung Galaxy A34 Dual Sim Awesome Lime 8GB R...  11,799 EGP  23% Off\n",
              "37  Samsung Galaxy A05 Dual SIM Light Green 4GB RA...   5,490 EGP    0 off\n",
              "38  Samsung Galaxy S23 Ultra 5G Dual SIM Phantom B...  40,900 EGP    0 off\n",
              "39  Samsung Galaxy S24 Ultra Dual SIM Titanium Yel...  47,750 EGP  12% Off\n",
              "40  Samsung Galaxy S24 Ultra Dual SIM Titanium Vio...  49,425 EGP    0 off\n",
              "41  Samsung Galaxy S24 Ultra Dual SIM Titanium Yel...  47,750 EGP    0 off\n",
              "42  Samsung Galaxy A04s Dual SIM Black 3G 32GB 4G ...   4,700 EGP  14% Off\n",
              "43  Samsung Galaxy S23 Ultra 5G Dual SIM Green 12G...  40,990 EGP  22% Off\n",
              "44  Samsung Galaxy A14 Dual Sim Black 4GB RAM 64GB...   6,140 EGP  14% Off\n",
              "45  Samsung Galaxy A25 Dual Sim Yellow 8GB RAM 256...  11,255 EGP  19% Off\n",
              "46  Samsung Galaxy A54 Dual Sim Awesome Graphite 8...  17,777 EGP    0 off\n",
              "47  Samsung Galaxy A54 Dual Sim Awesome Lime 8GB R...  15,899 EGP  18% Off\n",
              "48  Samsung Galaxy A05 Dual SIM Black 4GB RAM 64GB...   5,500 EGP    0 off\n",
              "49  Samsung Galaxy A05s Dual SIM Black 4GB RAM 128...   5,490 EGP   5% Off"
            ],
            "text/html": [
              "\n",
              "  <div id=\"df-a492fdfa-8230-41f3-a631-2a4a60f0eec4\" class=\"colab-df-container\">\n",
              "    <div>\n",
              "<style scoped>\n",
              "    .dataframe tbody tr th:only-of-type {\n",
              "        vertical-align: middle;\n",
              "    }\n",
              "\n",
              "    .dataframe tbody tr th {\n",
              "        vertical-align: top;\n",
              "    }\n",
              "\n",
              "    .dataframe thead th {\n",
              "        text-align: right;\n",
              "    }\n",
              "</style>\n",
              "<table border=\"1\" class=\"dataframe\">\n",
              "  <thead>\n",
              "    <tr style=\"text-align: right;\">\n",
              "      <th></th>\n",
              "      <th>Name</th>\n",
              "      <th>Full Price</th>\n",
              "      <th>Offer</th>\n",
              "    </tr>\n",
              "  </thead>\n",
              "  <tbody>\n",
              "    <tr>\n",
              "      <th>0</th>\n",
              "      <td>Samsung Galaxy A15 Dual SIM Light Blue 6GB RAM...</td>\n",
              "      <td>7,212 EGP</td>\n",
              "      <td>21% Off</td>\n",
              "    </tr>\n",
              "    <tr>\n",
              "      <th>1</th>\n",
              "      <td>Samsung Galaxy A15 Dual Sim Blue Black 4GB RAM...</td>\n",
              "      <td>6,299 EGP</td>\n",
              "      <td>27% Off</td>\n",
              "    </tr>\n",
              "    <tr>\n",
              "      <th>2</th>\n",
              "      <td>Samsung Galaxy A15 Dual Sim Light Blue 4GB RAM...</td>\n",
              "      <td>6,222 EGP</td>\n",
              "      <td>28% Off</td>\n",
              "    </tr>\n",
              "    <tr>\n",
              "      <th>3</th>\n",
              "      <td>Samsung Galaxy A15 Dual SIM Blue/Black 6GB RAM...</td>\n",
              "      <td>6,750 EGP</td>\n",
              "      <td>26% Off</td>\n",
              "    </tr>\n",
              "    <tr>\n",
              "      <th>4</th>\n",
              "      <td>Samsung Galaxy A15 Dual Sim Yellow 8GB RAM 256...</td>\n",
              "      <td>8,040 EGP</td>\n",
              "      <td>26% Off</td>\n",
              "    </tr>\n",
              "    <tr>\n",
              "      <th>5</th>\n",
              "      <td>Samsung Galaxy A15 Dual Sim Blue Black 8GB RAM...</td>\n",
              "      <td>8,099 EGP</td>\n",
              "      <td>37% Off</td>\n",
              "    </tr>\n",
              "    <tr>\n",
              "      <th>6</th>\n",
              "      <td>Samsung Galaxy A15 Dual Sim Yellow 4GB RAM 128...</td>\n",
              "      <td>6,290 EGP</td>\n",
              "      <td>27% Off</td>\n",
              "    </tr>\n",
              "    <tr>\n",
              "      <th>7</th>\n",
              "      <td>Samsung Galaxy A15 Dual SIM Yellow 6GB RAM 128...</td>\n",
              "      <td>6,999 EGP</td>\n",
              "      <td>23% Off</td>\n",
              "    </tr>\n",
              "    <tr>\n",
              "      <th>8</th>\n",
              "      <td>Samsung Galaxy A15 Dual Sim Light Blue 8GB RAM...</td>\n",
              "      <td>8,190 EGP</td>\n",
              "      <td>25% Off</td>\n",
              "    </tr>\n",
              "    <tr>\n",
              "      <th>9</th>\n",
              "      <td>Samsung Galaxy A25 Dual Sim Light Blue 8GB RAM...</td>\n",
              "      <td>11,424 EGP</td>\n",
              "      <td>18% Off</td>\n",
              "    </tr>\n",
              "    <tr>\n",
              "      <th>10</th>\n",
              "      <td>Samsung Galaxy A05s Dual SIM Black 6GB RAM 128...</td>\n",
              "      <td>5,945 EGP</td>\n",
              "      <td>15% Off</td>\n",
              "    </tr>\n",
              "    <tr>\n",
              "      <th>11</th>\n",
              "      <td>Samsung Galaxy A05s Dual SIM Light Violet 6GB ...</td>\n",
              "      <td>6,136 EGP</td>\n",
              "      <td>12% Off</td>\n",
              "    </tr>\n",
              "    <tr>\n",
              "      <th>12</th>\n",
              "      <td>Samsung Galaxy A35 Dual SIM Awesome Navy 8GB R...</td>\n",
              "      <td>13,333 EGP</td>\n",
              "      <td>11% Off</td>\n",
              "    </tr>\n",
              "    <tr>\n",
              "      <th>13</th>\n",
              "      <td>Samsung Galaxy S24 Ultra Dual SIM Titanium Gra...</td>\n",
              "      <td>47,950 EGP</td>\n",
              "      <td>0 off</td>\n",
              "    </tr>\n",
              "    <tr>\n",
              "      <th>14</th>\n",
              "      <td>Samsung Galaxy A34 Dual Sim Awesome Silver 8GB...</td>\n",
              "      <td>11,799 EGP</td>\n",
              "      <td>23% Off</td>\n",
              "    </tr>\n",
              "    <tr>\n",
              "      <th>15</th>\n",
              "      <td>Samsung Galaxy A25 Dual Sim Blue Black 8GB RAM...</td>\n",
              "      <td>10,975 EGP</td>\n",
              "      <td>21% Off</td>\n",
              "    </tr>\n",
              "    <tr>\n",
              "      <th>16</th>\n",
              "      <td>Samsung Galaxy A05s Dual SIM Silver 4GB RAM 12...</td>\n",
              "      <td>5,395 EGP</td>\n",
              "      <td>12% Off</td>\n",
              "    </tr>\n",
              "    <tr>\n",
              "      <th>17</th>\n",
              "      <td>Samsung Galaxy S23 Ultra 5G Dual SIM Phantom B...</td>\n",
              "      <td>40,955 EGP</td>\n",
              "      <td>28% Off</td>\n",
              "    </tr>\n",
              "    <tr>\n",
              "      <th>18</th>\n",
              "      <td>Samsung Galaxy A05s Dual SIM Light Violet 4GB ...</td>\n",
              "      <td>5,858 EGP</td>\n",
              "      <td>6% Off</td>\n",
              "    </tr>\n",
              "    <tr>\n",
              "      <th>19</th>\n",
              "      <td>Samsung Galaxy S24 Ultra Dual SIM Titanium Gra...</td>\n",
              "      <td>49,350 EGP</td>\n",
              "      <td>0 off</td>\n",
              "    </tr>\n",
              "    <tr>\n",
              "      <th>20</th>\n",
              "      <td>Samsung Galaxy A15 Dual SIM Blue/Black 6GB RAM...</td>\n",
              "      <td>7,223 EGP</td>\n",
              "      <td>0 off</td>\n",
              "    </tr>\n",
              "    <tr>\n",
              "      <th>21</th>\n",
              "      <td>Samsung Galaxy A34 Dual Sim Awesome Graphite 8...</td>\n",
              "      <td>11,799 EGP</td>\n",
              "      <td>23% Off</td>\n",
              "    </tr>\n",
              "    <tr>\n",
              "      <th>22</th>\n",
              "      <td>Samsung Galaxy A55 Dual SIM Awesome Navy 8GB R...</td>\n",
              "      <td>20,500 EGP</td>\n",
              "      <td>21% Off</td>\n",
              "    </tr>\n",
              "    <tr>\n",
              "      <th>23</th>\n",
              "      <td>Samsung Galaxy A14 Dual Sim Black 4GB RAM 128G...</td>\n",
              "      <td>6,777 EGP</td>\n",
              "      <td>22% Off</td>\n",
              "    </tr>\n",
              "    <tr>\n",
              "      <th>24</th>\n",
              "      <td>Samsung Galaxy A05s Dual SIM Silver 4GB RAM 12...</td>\n",
              "      <td>5,390 EGP</td>\n",
              "      <td>13% Off</td>\n",
              "    </tr>\n",
              "    <tr>\n",
              "      <th>25</th>\n",
              "      <td>Samsung Galaxy A35 Dual SIM Awesome Navy 8GB R...</td>\n",
              "      <td>14,399 EGP</td>\n",
              "      <td>13% Off</td>\n",
              "    </tr>\n",
              "    <tr>\n",
              "      <th>26</th>\n",
              "      <td>Samsung Galaxy A05s Dual SIM Black 4GB RAM 128...</td>\n",
              "      <td>5,395 EGP</td>\n",
              "      <td>13% Off</td>\n",
              "    </tr>\n",
              "    <tr>\n",
              "      <th>27</th>\n",
              "      <td>Samsung Galaxy A34 Dual Sim Awesome Graphite 8...</td>\n",
              "      <td>13,333 EGP</td>\n",
              "      <td>18% Off</td>\n",
              "    </tr>\n",
              "    <tr>\n",
              "      <th>28</th>\n",
              "      <td>Samsung Galaxy A35 Dual SIM Awesome Ice Blue 8...</td>\n",
              "      <td>13,333 EGP</td>\n",
              "      <td>11% Off</td>\n",
              "    </tr>\n",
              "    <tr>\n",
              "      <th>29</th>\n",
              "      <td>Samsung Galaxy A35 Dual SIM Awesome Lilac 8GB ...</td>\n",
              "      <td>14,399 EGP</td>\n",
              "      <td>13% Off</td>\n",
              "    </tr>\n",
              "    <tr>\n",
              "      <th>30</th>\n",
              "      <td>Samsung Galaxy S24 Ultra Dual SIM Titanium Bla...</td>\n",
              "      <td>47,750 EGP</td>\n",
              "      <td>0 off</td>\n",
              "    </tr>\n",
              "    <tr>\n",
              "      <th>31</th>\n",
              "      <td>Samsung Galaxy A34 Dual Sim Awesome Silver 8GB...</td>\n",
              "      <td>13,492 EGP</td>\n",
              "      <td>17% Off</td>\n",
              "    </tr>\n",
              "    <tr>\n",
              "      <th>32</th>\n",
              "      <td>Samsung Galaxy A05s Dual SIM Silver 6GB RAM 12...</td>\n",
              "      <td>5,945 EGP</td>\n",
              "      <td>15% Off</td>\n",
              "    </tr>\n",
              "    <tr>\n",
              "      <th>33</th>\n",
              "      <td>Samsung Galaxy A54 Dual Sim Awesome Graphite 8...</td>\n",
              "      <td>15,899 EGP</td>\n",
              "      <td>18% Off</td>\n",
              "    </tr>\n",
              "    <tr>\n",
              "      <th>34</th>\n",
              "      <td>Samsung Galaxy S24 Ultra Dual SIM Titanium Bla...</td>\n",
              "      <td>46,853 EGP</td>\n",
              "      <td>0 off</td>\n",
              "    </tr>\n",
              "    <tr>\n",
              "      <th>35</th>\n",
              "      <td>Samsung Galaxy A35 Dual SIM Awesome Ice Blue 8...</td>\n",
              "      <td>14,399 EGP</td>\n",
              "      <td>13% Off</td>\n",
              "    </tr>\n",
              "    <tr>\n",
              "      <th>36</th>\n",
              "      <td>Samsung Galaxy A34 Dual Sim Awesome Lime 8GB R...</td>\n",
              "      <td>11,799 EGP</td>\n",
              "      <td>23% Off</td>\n",
              "    </tr>\n",
              "    <tr>\n",
              "      <th>37</th>\n",
              "      <td>Samsung Galaxy A05 Dual SIM Light Green 4GB RA...</td>\n",
              "      <td>5,490 EGP</td>\n",
              "      <td>0 off</td>\n",
              "    </tr>\n",
              "    <tr>\n",
              "      <th>38</th>\n",
              "      <td>Samsung Galaxy S23 Ultra 5G Dual SIM Phantom B...</td>\n",
              "      <td>40,900 EGP</td>\n",
              "      <td>0 off</td>\n",
              "    </tr>\n",
              "    <tr>\n",
              "      <th>39</th>\n",
              "      <td>Samsung Galaxy S24 Ultra Dual SIM Titanium Yel...</td>\n",
              "      <td>47,750 EGP</td>\n",
              "      <td>12% Off</td>\n",
              "    </tr>\n",
              "    <tr>\n",
              "      <th>40</th>\n",
              "      <td>Samsung Galaxy S24 Ultra Dual SIM Titanium Vio...</td>\n",
              "      <td>49,425 EGP</td>\n",
              "      <td>0 off</td>\n",
              "    </tr>\n",
              "    <tr>\n",
              "      <th>41</th>\n",
              "      <td>Samsung Galaxy S24 Ultra Dual SIM Titanium Yel...</td>\n",
              "      <td>47,750 EGP</td>\n",
              "      <td>0 off</td>\n",
              "    </tr>\n",
              "    <tr>\n",
              "      <th>42</th>\n",
              "      <td>Samsung Galaxy A04s Dual SIM Black 3G 32GB 4G ...</td>\n",
              "      <td>4,700 EGP</td>\n",
              "      <td>14% Off</td>\n",
              "    </tr>\n",
              "    <tr>\n",
              "      <th>43</th>\n",
              "      <td>Samsung Galaxy S23 Ultra 5G Dual SIM Green 12G...</td>\n",
              "      <td>40,990 EGP</td>\n",
              "      <td>22% Off</td>\n",
              "    </tr>\n",
              "    <tr>\n",
              "      <th>44</th>\n",
              "      <td>Samsung Galaxy A14 Dual Sim Black 4GB RAM 64GB...</td>\n",
              "      <td>6,140 EGP</td>\n",
              "      <td>14% Off</td>\n",
              "    </tr>\n",
              "    <tr>\n",
              "      <th>45</th>\n",
              "      <td>Samsung Galaxy A25 Dual Sim Yellow 8GB RAM 256...</td>\n",
              "      <td>11,255 EGP</td>\n",
              "      <td>19% Off</td>\n",
              "    </tr>\n",
              "    <tr>\n",
              "      <th>46</th>\n",
              "      <td>Samsung Galaxy A54 Dual Sim Awesome Graphite 8...</td>\n",
              "      <td>17,777 EGP</td>\n",
              "      <td>0 off</td>\n",
              "    </tr>\n",
              "    <tr>\n",
              "      <th>47</th>\n",
              "      <td>Samsung Galaxy A54 Dual Sim Awesome Lime 8GB R...</td>\n",
              "      <td>15,899 EGP</td>\n",
              "      <td>18% Off</td>\n",
              "    </tr>\n",
              "    <tr>\n",
              "      <th>48</th>\n",
              "      <td>Samsung Galaxy A05 Dual SIM Black 4GB RAM 64GB...</td>\n",
              "      <td>5,500 EGP</td>\n",
              "      <td>0 off</td>\n",
              "    </tr>\n",
              "    <tr>\n",
              "      <th>49</th>\n",
              "      <td>Samsung Galaxy A05s Dual SIM Black 4GB RAM 128...</td>\n",
              "      <td>5,490 EGP</td>\n",
              "      <td>5% Off</td>\n",
              "    </tr>\n",
              "  </tbody>\n",
              "</table>\n",
              "</div>\n",
              "    <div class=\"colab-df-buttons\">\n",
              "\n",
              "  <div class=\"colab-df-container\">\n",
              "    <button class=\"colab-df-convert\" onclick=\"convertToInteractive('df-a492fdfa-8230-41f3-a631-2a4a60f0eec4')\"\n",
              "            title=\"Convert this dataframe to an interactive table.\"\n",
              "            style=\"display:none;\">\n",
              "\n",
              "  <svg xmlns=\"http://www.w3.org/2000/svg\" height=\"24px\" viewBox=\"0 -960 960 960\">\n",
              "    <path d=\"M120-120v-720h720v720H120Zm60-500h600v-160H180v160Zm220 220h160v-160H400v160Zm0 220h160v-160H400v160ZM180-400h160v-160H180v160Zm440 0h160v-160H620v160ZM180-180h160v-160H180v160Zm440 0h160v-160H620v160Z\"/>\n",
              "  </svg>\n",
              "    </button>\n",
              "\n",
              "  <style>\n",
              "    .colab-df-container {\n",
              "      display:flex;\n",
              "      gap: 12px;\n",
              "    }\n",
              "\n",
              "    .colab-df-convert {\n",
              "      background-color: #E8F0FE;\n",
              "      border: none;\n",
              "      border-radius: 50%;\n",
              "      cursor: pointer;\n",
              "      display: none;\n",
              "      fill: #1967D2;\n",
              "      height: 32px;\n",
              "      padding: 0 0 0 0;\n",
              "      width: 32px;\n",
              "    }\n",
              "\n",
              "    .colab-df-convert:hover {\n",
              "      background-color: #E2EBFA;\n",
              "      box-shadow: 0px 1px 2px rgba(60, 64, 67, 0.3), 0px 1px 3px 1px rgba(60, 64, 67, 0.15);\n",
              "      fill: #174EA6;\n",
              "    }\n",
              "\n",
              "    .colab-df-buttons div {\n",
              "      margin-bottom: 4px;\n",
              "    }\n",
              "\n",
              "    [theme=dark] .colab-df-convert {\n",
              "      background-color: #3B4455;\n",
              "      fill: #D2E3FC;\n",
              "    }\n",
              "\n",
              "    [theme=dark] .colab-df-convert:hover {\n",
              "      background-color: #434B5C;\n",
              "      box-shadow: 0px 1px 3px 1px rgba(0, 0, 0, 0.15);\n",
              "      filter: drop-shadow(0px 1px 2px rgba(0, 0, 0, 0.3));\n",
              "      fill: #FFFFFF;\n",
              "    }\n",
              "  </style>\n",
              "\n",
              "    <script>\n",
              "      const buttonEl =\n",
              "        document.querySelector('#df-a492fdfa-8230-41f3-a631-2a4a60f0eec4 button.colab-df-convert');\n",
              "      buttonEl.style.display =\n",
              "        google.colab.kernel.accessAllowed ? 'block' : 'none';\n",
              "\n",
              "      async function convertToInteractive(key) {\n",
              "        const element = document.querySelector('#df-a492fdfa-8230-41f3-a631-2a4a60f0eec4');\n",
              "        const dataTable =\n",
              "          await google.colab.kernel.invokeFunction('convertToInteractive',\n",
              "                                                    [key], {});\n",
              "        if (!dataTable) return;\n",
              "\n",
              "        const docLinkHtml = 'Like what you see? Visit the ' +\n",
              "          '<a target=\"_blank\" href=https://colab.research.google.com/notebooks/data_table.ipynb>data table notebook</a>'\n",
              "          + ' to learn more about interactive tables.';\n",
              "        element.innerHTML = '';\n",
              "        dataTable['output_type'] = 'display_data';\n",
              "        await google.colab.output.renderOutput(dataTable, element);\n",
              "        const docLink = document.createElement('div');\n",
              "        docLink.innerHTML = docLinkHtml;\n",
              "        element.appendChild(docLink);\n",
              "      }\n",
              "    </script>\n",
              "  </div>\n",
              "\n",
              "\n",
              "<div id=\"df-9ca32921-1d09-4ef0-917f-914f7a719fe9\">\n",
              "  <button class=\"colab-df-quickchart\" onclick=\"quickchart('df-9ca32921-1d09-4ef0-917f-914f7a719fe9')\"\n",
              "            title=\"Suggest charts\"\n",
              "            style=\"display:none;\">\n",
              "\n",
              "<svg xmlns=\"http://www.w3.org/2000/svg\" height=\"24px\"viewBox=\"0 0 24 24\"\n",
              "     width=\"24px\">\n",
              "    <g>\n",
              "        <path d=\"M19 3H5c-1.1 0-2 .9-2 2v14c0 1.1.9 2 2 2h14c1.1 0 2-.9 2-2V5c0-1.1-.9-2-2-2zM9 17H7v-7h2v7zm4 0h-2V7h2v10zm4 0h-2v-4h2v4z\"/>\n",
              "    </g>\n",
              "</svg>\n",
              "  </button>\n",
              "\n",
              "<style>\n",
              "  .colab-df-quickchart {\n",
              "      --bg-color: #E8F0FE;\n",
              "      --fill-color: #1967D2;\n",
              "      --hover-bg-color: #E2EBFA;\n",
              "      --hover-fill-color: #174EA6;\n",
              "      --disabled-fill-color: #AAA;\n",
              "      --disabled-bg-color: #DDD;\n",
              "  }\n",
              "\n",
              "  [theme=dark] .colab-df-quickchart {\n",
              "      --bg-color: #3B4455;\n",
              "      --fill-color: #D2E3FC;\n",
              "      --hover-bg-color: #434B5C;\n",
              "      --hover-fill-color: #FFFFFF;\n",
              "      --disabled-bg-color: #3B4455;\n",
              "      --disabled-fill-color: #666;\n",
              "  }\n",
              "\n",
              "  .colab-df-quickchart {\n",
              "    background-color: var(--bg-color);\n",
              "    border: none;\n",
              "    border-radius: 50%;\n",
              "    cursor: pointer;\n",
              "    display: none;\n",
              "    fill: var(--fill-color);\n",
              "    height: 32px;\n",
              "    padding: 0;\n",
              "    width: 32px;\n",
              "  }\n",
              "\n",
              "  .colab-df-quickchart:hover {\n",
              "    background-color: var(--hover-bg-color);\n",
              "    box-shadow: 0 1px 2px rgba(60, 64, 67, 0.3), 0 1px 3px 1px rgba(60, 64, 67, 0.15);\n",
              "    fill: var(--button-hover-fill-color);\n",
              "  }\n",
              "\n",
              "  .colab-df-quickchart-complete:disabled,\n",
              "  .colab-df-quickchart-complete:disabled:hover {\n",
              "    background-color: var(--disabled-bg-color);\n",
              "    fill: var(--disabled-fill-color);\n",
              "    box-shadow: none;\n",
              "  }\n",
              "\n",
              "  .colab-df-spinner {\n",
              "    border: 2px solid var(--fill-color);\n",
              "    border-color: transparent;\n",
              "    border-bottom-color: var(--fill-color);\n",
              "    animation:\n",
              "      spin 1s steps(1) infinite;\n",
              "  }\n",
              "\n",
              "  @keyframes spin {\n",
              "    0% {\n",
              "      border-color: transparent;\n",
              "      border-bottom-color: var(--fill-color);\n",
              "      border-left-color: var(--fill-color);\n",
              "    }\n",
              "    20% {\n",
              "      border-color: transparent;\n",
              "      border-left-color: var(--fill-color);\n",
              "      border-top-color: var(--fill-color);\n",
              "    }\n",
              "    30% {\n",
              "      border-color: transparent;\n",
              "      border-left-color: var(--fill-color);\n",
              "      border-top-color: var(--fill-color);\n",
              "      border-right-color: var(--fill-color);\n",
              "    }\n",
              "    40% {\n",
              "      border-color: transparent;\n",
              "      border-right-color: var(--fill-color);\n",
              "      border-top-color: var(--fill-color);\n",
              "    }\n",
              "    60% {\n",
              "      border-color: transparent;\n",
              "      border-right-color: var(--fill-color);\n",
              "    }\n",
              "    80% {\n",
              "      border-color: transparent;\n",
              "      border-right-color: var(--fill-color);\n",
              "      border-bottom-color: var(--fill-color);\n",
              "    }\n",
              "    90% {\n",
              "      border-color: transparent;\n",
              "      border-bottom-color: var(--fill-color);\n",
              "    }\n",
              "  }\n",
              "</style>\n",
              "\n",
              "  <script>\n",
              "    async function quickchart(key) {\n",
              "      const quickchartButtonEl =\n",
              "        document.querySelector('#' + key + ' button');\n",
              "      quickchartButtonEl.disabled = true;  // To prevent multiple clicks.\n",
              "      quickchartButtonEl.classList.add('colab-df-spinner');\n",
              "      try {\n",
              "        const charts = await google.colab.kernel.invokeFunction(\n",
              "            'suggestCharts', [key], {});\n",
              "      } catch (error) {\n",
              "        console.error('Error during call to suggestCharts:', error);\n",
              "      }\n",
              "      quickchartButtonEl.classList.remove('colab-df-spinner');\n",
              "      quickchartButtonEl.classList.add('colab-df-quickchart-complete');\n",
              "    }\n",
              "    (() => {\n",
              "      let quickchartButtonEl =\n",
              "        document.querySelector('#df-9ca32921-1d09-4ef0-917f-914f7a719fe9 button');\n",
              "      quickchartButtonEl.style.display =\n",
              "        google.colab.kernel.accessAllowed ? 'block' : 'none';\n",
              "    })();\n",
              "  </script>\n",
              "</div>\n",
              "\n",
              "  <div id=\"id_d5b9fbeb-0853-488e-8445-d19998723e6b\">\n",
              "    <style>\n",
              "      .colab-df-generate {\n",
              "        background-color: #E8F0FE;\n",
              "        border: none;\n",
              "        border-radius: 50%;\n",
              "        cursor: pointer;\n",
              "        display: none;\n",
              "        fill: #1967D2;\n",
              "        height: 32px;\n",
              "        padding: 0 0 0 0;\n",
              "        width: 32px;\n",
              "      }\n",
              "\n",
              "      .colab-df-generate:hover {\n",
              "        background-color: #E2EBFA;\n",
              "        box-shadow: 0px 1px 2px rgba(60, 64, 67, 0.3), 0px 1px 3px 1px rgba(60, 64, 67, 0.15);\n",
              "        fill: #174EA6;\n",
              "      }\n",
              "\n",
              "      [theme=dark] .colab-df-generate {\n",
              "        background-color: #3B4455;\n",
              "        fill: #D2E3FC;\n",
              "      }\n",
              "\n",
              "      [theme=dark] .colab-df-generate:hover {\n",
              "        background-color: #434B5C;\n",
              "        box-shadow: 0px 1px 3px 1px rgba(0, 0, 0, 0.15);\n",
              "        filter: drop-shadow(0px 1px 2px rgba(0, 0, 0, 0.3));\n",
              "        fill: #FFFFFF;\n",
              "      }\n",
              "    </style>\n",
              "    <button class=\"colab-df-generate\" onclick=\"generateWithVariable('samsung_prices')\"\n",
              "            title=\"Generate code using this dataframe.\"\n",
              "            style=\"display:none;\">\n",
              "\n",
              "  <svg xmlns=\"http://www.w3.org/2000/svg\" height=\"24px\"viewBox=\"0 0 24 24\"\n",
              "       width=\"24px\">\n",
              "    <path d=\"M7,19H8.4L18.45,9,17,7.55,7,17.6ZM5,21V16.75L18.45,3.32a2,2,0,0,1,2.83,0l1.4,1.43a1.91,1.91,0,0,1,.58,1.4,1.91,1.91,0,0,1-.58,1.4L9.25,21ZM18.45,9,17,7.55Zm-12,3A5.31,5.31,0,0,0,4.9,8.1,5.31,5.31,0,0,0,1,6.5,5.31,5.31,0,0,0,4.9,4.9,5.31,5.31,0,0,0,6.5,1,5.31,5.31,0,0,0,8.1,4.9,5.31,5.31,0,0,0,12,6.5,5.46,5.46,0,0,0,6.5,12Z\"/>\n",
              "  </svg>\n",
              "    </button>\n",
              "    <script>\n",
              "      (() => {\n",
              "      const buttonEl =\n",
              "        document.querySelector('#id_d5b9fbeb-0853-488e-8445-d19998723e6b button.colab-df-generate');\n",
              "      buttonEl.style.display =\n",
              "        google.colab.kernel.accessAllowed ? 'block' : 'none';\n",
              "\n",
              "      buttonEl.onclick = () => {\n",
              "        google.colab.notebook.generateWithVariable('samsung_prices');\n",
              "      }\n",
              "      })();\n",
              "    </script>\n",
              "  </div>\n",
              "\n",
              "    </div>\n",
              "  </div>\n"
            ],
            "application/vnd.google.colaboratory.intrinsic+json": {
              "type": "dataframe",
              "variable_name": "samsung_prices",
              "summary": "{\n  \"name\": \"samsung_prices\",\n  \"rows\": 50,\n  \"fields\": [\n    {\n      \"column\": \"Name\",\n      \"properties\": {\n        \"dtype\": \"string\",\n        \"num_unique_values\": 48,\n        \"samples\": [\n          \"Samsung Galaxy A35 Dual SIM Awesome Ice Blue 8GB RAM 128GB 5G - Middle East Version \\u2026\",\n          \"Samsung Galaxy S24 Ultra Dual SIM Titanium Yellow 12GB RAM 256GB 5G - International Version \\u2026\",\n          \"Samsung Galaxy A34 Dual Sim Awesome Graphite 8GB RAM 256GB 5G - Middle East Version \\u2026\"\n        ],\n        \"semantic_type\": \"\",\n        \"description\": \"\"\n      }\n    },\n    {\n      \"column\": \"Full Price\",\n      \"properties\": {\n        \"dtype\": \"string\",\n        \"num_unique_values\": 38,\n        \"samples\": [\n          \"40,990 EGP\",\n          \"17,777 EGP\",\n          \"8,040 EGP\"\n        ],\n        \"semantic_type\": \"\",\n        \"description\": \"\"\n      }\n    },\n    {\n      \"column\": \"Offer\",\n      \"properties\": {\n        \"dtype\": \"category\",\n        \"num_unique_values\": 19,\n        \"samples\": [\n          \"21% Off\",\n          \"23% Off\",\n          \"0 off\"\n        ],\n        \"semantic_type\": \"\",\n        \"description\": \"\"\n      }\n    }\n  ]\n}"
            }
          },
          "metadata": {},
          "execution_count": 209
        }
      ]
    },
    {
      "cell_type": "code",
      "source": [],
      "metadata": {
        "id": "BpQawzrdFDzV"
      },
      "execution_count": null,
      "outputs": []
    }
  ]
}